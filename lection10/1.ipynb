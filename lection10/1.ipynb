{
 "cells": [
  {
   "cell_type": "code",
   "execution_count": 64,
   "outputs": [],
   "source": [
    "a = 10"
   ],
   "metadata": {
    "collapsed": false,
    "ExecuteTime": {
     "end_time": "2023-10-17T06:41:40.930056600Z",
     "start_time": "2023-10-17T06:41:40.665775200Z"
    }
   },
   "id": "a9c40926ca9f7267"
  },
  {
   "cell_type": "code",
   "execution_count": 65,
   "outputs": [],
   "source": [
    "def test_fnc():\n",
    "    a = \"local var\"\n",
    "    print(f\"value of a = {a}\")"
   ],
   "metadata": {
    "collapsed": false,
    "ExecuteTime": {
     "end_time": "2023-10-17T06:41:40.997731Z",
     "start_time": "2023-10-17T06:41:40.681743Z"
    }
   },
   "id": "51e1fe82725fc2e"
  },
  {
   "cell_type": "code",
   "execution_count": 66,
   "outputs": [
    {
     "name": "stdout",
     "output_type": "stream",
     "text": [
      "Globals a = 10\n",
      "value of a = local var\n",
      "Globals a = 10\n"
     ]
    }
   ],
   "source": [
    "print(f\"Globals a = {a}\")\n",
    "test_fnc()\n",
    "print(f\"Globals a = {a}\")"
   ],
   "metadata": {
    "collapsed": false,
    "ExecuteTime": {
     "end_time": "2023-10-17T06:41:40.997731Z",
     "start_time": "2023-10-17T06:41:40.717717300Z"
    }
   },
   "id": "initial_id"
  },
  {
   "cell_type": "code",
   "execution_count": 67,
   "outputs": [
    {
     "data": {
      "text/plain": "<function __main__.test_fnc()>"
     },
     "execution_count": 67,
     "metadata": {},
     "output_type": "execute_result"
    }
   ],
   "source": [
    "test_fnc"
   ],
   "metadata": {
    "collapsed": false,
    "ExecuteTime": {
     "end_time": "2023-10-17T06:41:40.998708Z",
     "start_time": "2023-10-17T06:41:40.743759900Z"
    }
   },
   "id": "ac39a2fb2cb03a6b"
  },
  {
   "cell_type": "code",
   "execution_count": 68,
   "outputs": [
    {
     "name": "stdout",
     "output_type": "stream",
     "text": [
      "10\n",
      "local var\n",
      "local var\n"
     ]
    }
   ],
   "source": [
    "a = 10\n",
    "def test_fnc_2():\n",
    "    global a\n",
    "    print(a)\n",
    "    a = \"local var\"\n",
    "    print(a)\n",
    "    \n",
    "test_fnc_2()\n",
    "print(a)"
   ],
   "metadata": {
    "collapsed": false,
    "ExecuteTime": {
     "end_time": "2023-10-17T06:41:40.998708Z",
     "start_time": "2023-10-17T06:41:40.780426300Z"
    }
   },
   "id": "b7146072e39e3b0e"
  },
  {
   "cell_type": "code",
   "execution_count": 69,
   "outputs": [
    {
     "name": "stdout",
     "output_type": "stream",
     "text": [
      "81\n"
     ]
    }
   ],
   "source": [
    "for i in range(10):\n",
    "    x = i ** 2\n",
    "    \n",
    "print(x)"
   ],
   "metadata": {
    "collapsed": false,
    "ExecuteTime": {
     "end_time": "2023-10-17T06:41:40.999639100Z",
     "start_time": "2023-10-17T06:41:40.817961Z"
    }
   },
   "id": "1b5793d0b9a994f4"
  },
  {
   "cell_type": "code",
   "execution_count": 70,
   "outputs": [],
   "source": [
    "def outer_fnc():\n",
    "    test_value = \"hello\"\n",
    "    print(test_value)\n",
    "    def inner_func(): \n",
    "        nonlocal test_value\n",
    "        test_value = \"new hello\"\n",
    "        print(test_value)\n",
    "    inner_func()\n",
    "    print(test_value)\n",
    "    "
   ],
   "metadata": {
    "collapsed": false,
    "ExecuteTime": {
     "end_time": "2023-10-17T06:41:40.999639100Z",
     "start_time": "2023-10-17T06:41:40.830539200Z"
    }
   },
   "id": "cbf4c4d79d0c41c0"
  },
  {
   "cell_type": "code",
   "execution_count": 71,
   "outputs": [
    {
     "name": "stdout",
     "output_type": "stream",
     "text": [
      "hello\n",
      "new hello\n",
      "new hello\n"
     ]
    }
   ],
   "source": [
    "outer_fnc()"
   ],
   "metadata": {
    "collapsed": false,
    "ExecuteTime": {
     "end_time": "2023-10-17T06:41:41.000642800Z",
     "start_time": "2023-10-17T06:41:40.865444400Z"
    }
   },
   "id": "f2eda60d37507a1"
  },
  {
   "cell_type": "code",
   "execution_count": 72,
   "outputs": [
    {
     "name": "stdout",
     "output_type": "stream",
     "text": [
      "python\n"
     ]
    }
   ],
   "source": [
    "def out():\n",
    "    global x\n",
    "    x = \"Hello\"\n",
    "    \n",
    "    def inner():\n",
    "        global x\n",
    "        x = \"python\"\n",
    "        \n",
    "    inner()\n",
    "    print(x)\n",
    "\n",
    "out()"
   ],
   "metadata": {
    "collapsed": false,
    "ExecuteTime": {
     "end_time": "2023-10-17T06:41:41.000642800Z",
     "start_time": "2023-10-17T06:41:40.891999Z"
    }
   },
   "id": "abd619c285fb82ed"
  }
 ],
 "metadata": {
  "kernelspec": {
   "display_name": "Python 3",
   "language": "python",
   "name": "python3"
  },
  "language_info": {
   "codemirror_mode": {
    "name": "ipython",
    "version": 2
   },
   "file_extension": ".py",
   "mimetype": "text/x-python",
   "name": "python",
   "nbconvert_exporter": "python",
   "pygments_lexer": "ipython2",
   "version": "2.7.6"
  }
 },
 "nbformat": 4,
 "nbformat_minor": 5
}
