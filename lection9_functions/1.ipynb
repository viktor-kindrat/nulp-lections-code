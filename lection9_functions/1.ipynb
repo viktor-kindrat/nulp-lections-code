{
 "cells": [
  {
   "cell_type": "markdown",
   "source": [
    "# Lection 9"
   ],
   "metadata": {
    "collapsed": false
   },
   "id": "a9300788f8b41c67"
  },
  {
   "cell_type": "markdown",
   "source": [
    "## List comprehation"
   ],
   "metadata": {
    "collapsed": false
   },
   "id": "d98f75e742b2d3db"
  },
  {
   "cell_type": "code",
   "execution_count": 48,
   "outputs": [
    {
     "name": "stdout",
     "output_type": "stream",
     "text": [
      "[1, 9, 9, 1, 25]\n"
     ]
    }
   ],
   "source": [
    "list_2 = [\n",
    "    [1, 2, 3],\n",
    "    [3, 1, 5],\n",
    "    [4, 2, 10],\n",
    "]\n",
    "\n",
    "list_3 = [\n",
    "    el ** 2 \n",
    "    for lst in list_2 \n",
    "    for el in lst \n",
    "    if el % 2\n",
    "]\n",
    "print(list_3)"
   ],
   "metadata": {
    "collapsed": false,
    "ExecuteTime": {
     "end_time": "2023-10-10T06:29:13.102337200Z",
     "start_time": "2023-10-10T06:29:12.987877400Z"
    }
   },
   "id": "d596fab3cea646ce"
  },
  {
   "cell_type": "markdown",
   "source": [],
   "metadata": {
    "collapsed": false
   },
   "id": "a89a807f2c709456"
  },
  {
   "cell_type": "code",
   "execution_count": 49,
   "outputs": [
    {
     "data": {
      "text/plain": "'__main__'"
     },
     "execution_count": 49,
     "metadata": {},
     "output_type": "execute_result"
    }
   ],
   "source": [
    "globals()[\"__name__\"]"
   ],
   "metadata": {
    "collapsed": false,
    "ExecuteTime": {
     "end_time": "2023-10-10T06:29:13.359316600Z",
     "start_time": "2023-10-10T06:29:13.010773800Z"
    }
   },
   "id": "5a1cb173110fe76f"
  },
  {
   "cell_type": "code",
   "execution_count": 50,
   "outputs": [],
   "source": [
    "# OTHER CODE HERE (functions and class creation)\n",
    "\n",
    "if __name__ == \"__main__\":\n",
    "    x = 2\n",
    "    y = 5\n",
    "    s = x + y"
   ],
   "metadata": {
    "collapsed": false,
    "ExecuteTime": {
     "end_time": "2023-10-10T06:29:13.361322900Z",
     "start_time": "2023-10-10T06:29:13.033010200Z"
    }
   },
   "id": "53942e401aa268d2"
  },
  {
   "cell_type": "markdown",
   "source": [],
   "metadata": {
    "collapsed": false
   },
   "id": "7486f36af70a2990"
  },
  {
   "cell_type": "code",
   "execution_count": 51,
   "outputs": [
    {
     "name": "stdout",
     "output_type": "stream",
     "text": [
      "hello from function add_numbers\n"
     ]
    }
   ],
   "source": [
    "def add_numbers():\n",
    "    # this is doc string of function (important)\n",
    "    \"\"\"\n",
    "    This is first multiline string\n",
    "    This is the second string\n",
    "    \"\"\"\n",
    "    print(\"hello from function\", add_numbers.__name__)\n",
    "\n",
    "add_numbers()"
   ],
   "metadata": {
    "collapsed": false,
    "ExecuteTime": {
     "end_time": "2023-10-10T06:29:13.361322900Z",
     "start_time": "2023-10-10T06:29:13.049979400Z"
    }
   },
   "id": "5dd06cfc41d62a8f"
  },
  {
   "cell_type": "code",
   "execution_count": 52,
   "outputs": [
    {
     "name": "stdout",
     "output_type": "stream",
     "text": [
      "hello from function add_numbers\n"
     ]
    }
   ],
   "source": [
    "new_fn = add_numbers\n",
    "\n",
    "new_fn()"
   ],
   "metadata": {
    "collapsed": false,
    "ExecuteTime": {
     "end_time": "2023-10-10T06:29:13.363527500Z",
     "start_time": "2023-10-10T06:29:13.070943700Z"
    }
   },
   "id": "5d3c159d15373efb"
  },
  {
   "cell_type": "code",
   "execution_count": 53,
   "outputs": [
    {
     "name": "stdout",
     "output_type": "stream",
     "text": [
      "2023-10-10T06:29:13.093956\n"
     ]
    }
   ],
   "source": [
    "from datetime import datetime\n",
    "\n",
    "def current_time_utc():\n",
    "    return datetime.utcnow().isoformat()\n",
    "\n",
    "print(current_time_utc())"
   ],
   "metadata": {
    "collapsed": false,
    "ExecuteTime": {
     "end_time": "2023-10-10T06:29:13.382947700Z",
     "start_time": "2023-10-10T06:29:13.090956500Z"
    }
   },
   "id": "766a8779c6c32795"
  },
  {
   "cell_type": "code",
   "execution_count": 54,
   "outputs": [
    {
     "name": "stdout",
     "output_type": "stream",
     "text": [
      "hello from function add_numbers\n"
     ]
    },
    {
     "data": {
      "text/plain": "True"
     },
     "execution_count": 54,
     "metadata": {},
     "output_type": "execute_result"
    }
   ],
   "source": [
    "new_fn() == None"
   ],
   "metadata": {
    "collapsed": false,
    "ExecuteTime": {
     "end_time": "2023-10-10T06:29:13.383935700Z",
     "start_time": "2023-10-10T06:29:13.111823100Z"
    }
   },
   "id": "3e2464def1608bd"
  },
  {
   "cell_type": "code",
   "execution_count": 55,
   "outputs": [
    {
     "data": {
      "text/plain": "'\\n    This is first multiline string\\n    This is the second string\\n    '"
     },
     "execution_count": 55,
     "metadata": {},
     "output_type": "execute_result"
    }
   ],
   "source": [
    "add_numbers.__doc__"
   ],
   "metadata": {
    "collapsed": false,
    "ExecuteTime": {
     "end_time": "2023-10-10T06:29:13.385637200Z",
     "start_time": "2023-10-10T06:29:13.131898300Z"
    }
   },
   "id": "b426b1047d570d19"
  },
  {
   "cell_type": "code",
   "execution_count": 60,
   "outputs": [
    {
     "name": "stdout",
     "output_type": "stream",
     "text": [
      "{'a': 1, 'b': 5, 'c': 10}\n",
      "16\n",
      "{'a': 5, 'b': 10, 'c': 1}\n",
      "16\n"
     ]
    }
   ],
   "source": [
    "def add_num (a = 1, b = 1, c = 2):\n",
    "    \"\"\"\n",
    "    Return sum of numbers\n",
    "    \"\"\"\n",
    "    print(locals())\n",
    "    return a + b + c\n",
    "\n",
    "print(add_num(1, 5, 10))\n",
    "print(add_num(c = 1, a = 5, b = 10))"
   ],
   "metadata": {
    "collapsed": false,
    "ExecuteTime": {
     "end_time": "2023-10-10T06:30:37.662705900Z",
     "start_time": "2023-10-10T06:30:37.634072600Z"
    }
   },
   "id": "fc49d21c3f2238e0"
  },
  {
   "cell_type": "code",
   "execution_count": 57,
   "outputs": [
    {
     "data": {
      "text/plain": "False"
     },
     "execution_count": 57,
     "metadata": {},
     "output_type": "execute_result"
    }
   ],
   "source": [
    "\"_sum\" in globals()"
   ],
   "metadata": {
    "collapsed": false,
    "ExecuteTime": {
     "end_time": "2023-10-10T06:29:13.385962900Z",
     "start_time": "2023-10-10T06:29:13.167658Z"
    }
   },
   "id": "d48d46e5b992e5ae"
  },
  {
   "cell_type": "code",
   "execution_count": 58,
   "outputs": [
    {
     "data": {
      "text/plain": "<function __main__.add_num(a=1, b=1, c=2)>"
     },
     "execution_count": 58,
     "metadata": {},
     "output_type": "execute_result"
    }
   ],
   "source": [
    "add_num"
   ],
   "metadata": {
    "collapsed": false,
    "ExecuteTime": {
     "end_time": "2023-10-10T06:29:13.386938400Z",
     "start_time": "2023-10-10T06:29:13.188224500Z"
    }
   },
   "id": "887ada9e5a5ce122"
  },
  {
   "cell_type": "code",
   "execution_count": 61,
   "outputs": [
    {
     "name": "stdout",
     "output_type": "stream",
     "text": [
      "(1, 10, 65)\n"
     ]
    }
   ],
   "source": [
    "def add_n (a, b, c):\n",
    "    \"\"\"\n",
    "    Return sum of numbers\n",
    "    \"\"\"\n",
    "    return a, b, c\n",
    "\n",
    "print(add_n(1, 10, 65))"
   ],
   "metadata": {
    "collapsed": false,
    "ExecuteTime": {
     "end_time": "2023-10-10T06:34:23.913033300Z",
     "start_time": "2023-10-10T06:34:23.889641700Z"
    }
   },
   "id": "77d5cdd181823716"
  },
  {
   "cell_type": "code",
   "execution_count": 63,
   "outputs": [
    {
     "name": "stdout",
     "output_type": "stream",
     "text": [
      "False\n",
      "True\n"
     ]
    },
    {
     "ename": "UnboundLocalError",
     "evalue": "cannot access local variable 'a' where it is not associated with a value",
     "output_type": "error",
     "traceback": [
      "\u001B[1;31m---------------------------------------------------------------------------\u001B[0m",
      "\u001B[1;31mUnboundLocalError\u001B[0m                         Traceback (most recent call last)",
      "Cell \u001B[1;32mIn[63], line 14\u001B[0m\n\u001B[0;32m     10\u001B[0m     a \u001B[38;5;241m=\u001B[39m \u001B[38;5;124m\"\u001B[39m\u001B[38;5;124mhello world\u001B[39m\u001B[38;5;124m\"\u001B[39m\n\u001B[0;32m     11\u001B[0m     \u001B[38;5;28mprint\u001B[39m(\u001B[38;5;124m\"\u001B[39m\u001B[38;5;124ma\u001B[39m\u001B[38;5;124m\"\u001B[39m \u001B[38;5;129;01min\u001B[39;00m \u001B[38;5;28mlocals\u001B[39m())\n\u001B[1;32m---> 14\u001B[0m \u001B[43mshow\u001B[49m\u001B[43m(\u001B[49m\u001B[43m)\u001B[49m\n",
      "Cell \u001B[1;32mIn[63], line 9\u001B[0m, in \u001B[0;36mshow\u001B[1;34m()\u001B[0m\n\u001B[0;32m      7\u001B[0m \u001B[38;5;28mprint\u001B[39m(\u001B[38;5;124m\"\u001B[39m\u001B[38;5;124ma\u001B[39m\u001B[38;5;124m\"\u001B[39m \u001B[38;5;129;01min\u001B[39;00m \u001B[38;5;28mlocals\u001B[39m())\n\u001B[0;32m      8\u001B[0m \u001B[38;5;28mprint\u001B[39m(\u001B[38;5;124m\"\u001B[39m\u001B[38;5;124ma\u001B[39m\u001B[38;5;124m\"\u001B[39m \u001B[38;5;129;01min\u001B[39;00m \u001B[38;5;28mglobals\u001B[39m())\n\u001B[1;32m----> 9\u001B[0m \u001B[38;5;28mprint\u001B[39m(\u001B[43ma\u001B[49m)\n\u001B[0;32m     10\u001B[0m a \u001B[38;5;241m=\u001B[39m \u001B[38;5;124m\"\u001B[39m\u001B[38;5;124mhello world\u001B[39m\u001B[38;5;124m\"\u001B[39m\n\u001B[0;32m     11\u001B[0m \u001B[38;5;28mprint\u001B[39m(\u001B[38;5;124m\"\u001B[39m\u001B[38;5;124ma\u001B[39m\u001B[38;5;124m\"\u001B[39m \u001B[38;5;129;01min\u001B[39;00m \u001B[38;5;28mlocals\u001B[39m())\n",
      "\u001B[1;31mUnboundLocalError\u001B[0m: cannot access local variable 'a' where it is not associated with a value"
     ]
    }
   ],
   "source": [
    "a = \"gbgb\"\n",
    "\n",
    "def show():\n",
    "    \"\"\"\n",
    "    return global variable\n",
    "    \"\"\"\n",
    "    print(\"a\" in locals())\n",
    "    print(\"a\" in globals())\n",
    "    print(a)\n",
    "    a = \"hello world\"\n",
    "    print(\"a\" in locals())\n",
    "    \n",
    "    \n",
    "show()"
   ],
   "metadata": {
    "collapsed": false,
    "ExecuteTime": {
     "end_time": "2023-10-10T06:37:41.435201900Z",
     "start_time": "2023-10-10T06:37:41.357925800Z"
    }
   },
   "id": "c2115b767b9cbd1b"
  },
  {
   "cell_type": "code",
   "execution_count": 64,
   "outputs": [
    {
     "name": "stdout",
     "output_type": "stream",
     "text": [
      "(1, 10, 65)\n",
      "(1, 80, 90)\n"
     ]
    }
   ],
   "source": [
    "def add_ (a = 1, b = 80, c = 90):\n",
    "    \"\"\"\n",
    "    Return sum of numbers\n",
    "    \"\"\"\n",
    "    return a, b, c\n",
    "\n",
    "print(add_(1, 10, 65))\n",
    "print(add_())"
   ],
   "metadata": {
    "collapsed": false,
    "ExecuteTime": {
     "end_time": "2023-10-10T06:39:39.641605300Z",
     "start_time": "2023-10-10T06:39:39.564392300Z"
    }
   },
   "id": "d4d9ca70c7b60266"
  },
  {
   "cell_type": "code",
   "execution_count": 66,
   "outputs": [
    {
     "ename": "TypeError",
     "evalue": "'int' object is not callable",
     "output_type": "error",
     "traceback": [
      "\u001B[1;31m---------------------------------------------------------------------------\u001B[0m",
      "\u001B[1;31mTypeError\u001B[0m                                 Traceback (most recent call last)",
      "Cell \u001B[1;32mIn[66], line 14\u001B[0m\n\u001B[0;32m     10\u001B[0m     sum_ \u001B[38;5;241m=\u001B[39m \u001B[38;5;28msum\u001B[39m(sequence)\n\u001B[0;32m     12\u001B[0m     \u001B[38;5;28;01mreturn\u001B[39;00m max_val, min_val, length, sum_\n\u001B[1;32m---> 14\u001B[0m \u001B[43mstat\u001B[49m\u001B[43m(\u001B[49m\u001B[43mlist_4\u001B[49m\u001B[43m)\u001B[49m\n",
      "Cell \u001B[1;32mIn[66], line 10\u001B[0m, in \u001B[0;36mstat\u001B[1;34m(sequence)\u001B[0m\n\u001B[0;32m      8\u001B[0m min_val \u001B[38;5;241m=\u001B[39m \u001B[38;5;28mmin\u001B[39m(sequence)\n\u001B[0;32m      9\u001B[0m length \u001B[38;5;241m=\u001B[39m \u001B[38;5;28mlen\u001B[39m(sequence)\n\u001B[1;32m---> 10\u001B[0m sum_ \u001B[38;5;241m=\u001B[39m \u001B[38;5;28;43msum\u001B[39;49m\u001B[43m(\u001B[49m\u001B[43msequence\u001B[49m\u001B[43m)\u001B[49m\n\u001B[0;32m     12\u001B[0m \u001B[38;5;28;01mreturn\u001B[39;00m max_val, min_val, length, sum_\n",
      "\u001B[1;31mTypeError\u001B[0m: 'int' object is not callable"
     ]
    }
   ],
   "source": [
    "list_4 = [1, 2, 3, 4, 5, 6, 7, 8, 9, 10]\n",
    "\n",
    "def stat(sequence):\n",
    "    \"\"\"\n",
    "    Get stat\n",
    "    \"\"\"\n",
    "    max_val = max(sequence)\n",
    "    min_val = min(sequence)\n",
    "    length = len(sequence)\n",
    "    sum_ = sum(sequence)\n",
    "    \n",
    "    return max_val, min_val, length, sum_\n",
    "\n",
    "stat(list_4)"
   ],
   "metadata": {
    "collapsed": false,
    "ExecuteTime": {
     "end_time": "2023-10-10T06:45:50.421211200Z",
     "start_time": "2023-10-10T06:45:50.360746500Z"
    }
   },
   "id": "d765709e38a4ca25"
  },
  {
   "cell_type": "markdown",
   "source": [],
   "metadata": {
    "collapsed": false
   },
   "id": "d23bde6ad7311945"
  },
  {
   "cell_type": "code",
   "execution_count": 67,
   "outputs": [
    {
     "ename": "TypeError",
     "evalue": "'int' object is not callable",
     "output_type": "error",
     "traceback": [
      "\u001B[1;31m---------------------------------------------------------------------------\u001B[0m",
      "\u001B[1;31mTypeError\u001B[0m                                 Traceback (most recent call last)",
      "Cell \u001B[1;32mIn[67], line 4\u001B[0m\n\u001B[0;32m      1\u001B[0m \u001B[38;5;28;01mdef\u001B[39;00m \u001B[38;5;21ma\u001B[39m(\u001B[38;5;241m*\u001B[39margs):\n\u001B[0;32m      2\u001B[0m     \u001B[38;5;28;01mreturn\u001B[39;00m \u001B[38;5;28msum\u001B[39m(args)\n\u001B[1;32m----> 4\u001B[0m \u001B[38;5;28mprint\u001B[39m(\u001B[43ma\u001B[49m\u001B[43m(\u001B[49m\u001B[38;5;241;43m1\u001B[39;49m\u001B[43m,\u001B[49m\u001B[43m \u001B[49m\u001B[38;5;241;43m50\u001B[39;49m\u001B[43m,\u001B[49m\u001B[43m \u001B[49m\u001B[38;5;241;43m-\u001B[39;49m\u001B[38;5;241;43m100\u001B[39;49m\u001B[43m,\u001B[49m\u001B[43m \u001B[49m\u001B[38;5;241;43m360\u001B[39;49m\u001B[43m)\u001B[49m)\n",
      "Cell \u001B[1;32mIn[67], line 2\u001B[0m, in \u001B[0;36ma\u001B[1;34m(*args)\u001B[0m\n\u001B[0;32m      1\u001B[0m \u001B[38;5;28;01mdef\u001B[39;00m \u001B[38;5;21ma\u001B[39m(\u001B[38;5;241m*\u001B[39margs):\n\u001B[1;32m----> 2\u001B[0m     \u001B[38;5;28;01mreturn\u001B[39;00m \u001B[38;5;28;43msum\u001B[39;49m\u001B[43m(\u001B[49m\u001B[43margs\u001B[49m\u001B[43m)\u001B[49m\n",
      "\u001B[1;31mTypeError\u001B[0m: 'int' object is not callable"
     ]
    }
   ],
   "source": [
    "def a(*args, **kwargs):\n",
    "    return sum(args)\n",
    "\n",
    "print(a(1, 50, -100, 360))"
   ],
   "metadata": {
    "collapsed": false,
    "ExecuteTime": {
     "end_time": "2023-10-10T06:48:30.909718100Z",
     "start_time": "2023-10-10T06:48:30.807897Z"
    }
   },
   "id": "cfc9648deeb8564c"
  },
  {
   "cell_type": "code",
   "execution_count": null,
   "outputs": [],
   "source": [],
   "metadata": {
    "collapsed": false
   },
   "id": "a8be80dc75ede90a"
  }
 ],
 "metadata": {
  "kernelspec": {
   "display_name": "Python 3",
   "language": "python",
   "name": "python3"
  },
  "language_info": {
   "codemirror_mode": {
    "name": "ipython",
    "version": 2
   },
   "file_extension": ".py",
   "mimetype": "text/x-python",
   "name": "python",
   "nbconvert_exporter": "python",
   "pygments_lexer": "ipython2",
   "version": "2.7.6"
  }
 },
 "nbformat": 4,
 "nbformat_minor": 5
}
